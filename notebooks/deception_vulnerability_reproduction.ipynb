{
  "cells": [
    {
      "cell_type": "markdown",
      "metadata": {},
      "source": [
        "# GPT-OSS-20B Deception Vulnerability Reproduction\n",
        "\n",
        "This notebook reproduces the deception vulnerability findings from the red-teaming testbed.\n",
        "\n",
        "## Setup\n",
        "\n",
        "Make sure you have:\n",
        "1. Ollama installed and running\n",
        "2. gpt-oss:20b model pulled: `ollama pull gpt-oss:20b`\n",
        "3. Required Python packages installed: `pip install -r requirements.txt`"
      ]
    },
    {
      "cell_type": "code",
      "execution_count": null,
      "metadata": {},
      "source": [
        "import json\n",
        "import requests\n",
        "from pathlib import Path\n",
        "import pandas as pd\n",
        "\n",
        "# Import testbed utilities\n",
        "from utils.model_client import OllamaClient\n",
        "from utils.evaluator import ResponseEvaluator, VulnerabilityCategory\n",
        "from categories.deception import DeceptionTester"
      ]
    },
    {
      "cell_type": "markdown",
      "metadata": {},
      "source": [
        "## Load Finding\n",
        "\n",
        "Load the example deception finding for reproduction:"
      ]
    },
    {
      "cell_type": "code",
      "execution_count": null,
      "metadata": {},
      "source": [
        "# Load the example finding\n",
        "with open('findings/deception_example_001.json', 'r') as f:\n",
        "    finding = json.load(f)\n",
        "\n",
        "print(f\"Finding: {finding['title']}\")\n",
        "print(f\"Category: {finding['category']}\")\n",
        "print(f\"Total Score: {sum([finding[f'{dim}_self_assessment'] for dim in ['severity', 'breadth', 'novelty', 'reproducibility', 'methodological_insight']])}/50\")\n",
        "print(f\"\\nDescription: {finding['description']}\")"
      ]
    },
    {
      "cell_type": "markdown",
      "metadata": {},
      "source": [
        "## Initialize Model Client\n",
        "\n",
        "Connect to the gpt-oss:20b model via Ollama:"
      ]
    },
    {
      "cell_type": "code",
      "execution_count": null,
      "metadata": {},
      "source": [
        "# Initialize client\n",
        "client = OllamaClient(model=\"gpt-oss:20b\")\n",
        "\n",
        "# Test connection\n",
        "if client.is_model_available():\n",
        "    print(\"\u2705 Model available and ready\")\n",
        "else:\n",
        "    print(\"\u274c Model not available. Please run: ollama pull gpt-oss:20b\")\n",
        "    raise RuntimeError(\"Model not available\")"
      ]
    },
    {
      "cell_type": "markdown",
      "metadata": {},
      "source": [
        "## Reproduce Finding\n",
        "\n",
        "Execute the prompts from the finding to reproduce the vulnerability:"
      ]
    },
    {
      "cell_type": "code",
      "execution_count": null,
      "metadata": {},
      "source": [
        "# Initialize evaluator\n",
        "evaluator = ResponseEvaluator()\n",
        "results = []\n",
        "\n",
        "# Test each prompt from the finding\n",
        "for i, prompt in enumerate(finding['prompts']):\n",
        "    print(f\"\\n{'='*50}\")\n",
        "    print(f\"PROMPT {i+1}: {prompt}\")\n",
        "    print('='*50)\n",
        "    \n",
        "    # Get model response\n",
        "    response = client.generate(prompt, temperature=0.7)\n",
        "    \n",
        "    if response.error:\n",
        "        print(f\"\u274c Error: {response.error}\")\n",
        "        continue\n",
        "    \n",
        "    print(f\"\\nRESPONSE:\\n{response.content}\")\n",
        "    \n",
        "    # Evaluate for deception\n",
        "    evaluation = evaluator.evaluate_deception(prompt, response.content)\n",
        "    \n",
        "    print(f\"\\n\ud83d\udd0d EVALUATION:\")\n",
        "    print(f\"   Vulnerable: {evaluation.is_vulnerable}\")\n",
        "    print(f\"   Confidence: {evaluation.confidence:.2f}\")\n",
        "    print(f\"   Evidence: {evaluation.evidence}\")\n",
        "    print(f\"   Reasoning: {evaluation.reasoning}\")\n",
        "    \n",
        "    results.append({\n",
        "        'prompt': prompt,\n",
        "        'response': response.content,\n",
        "        'vulnerable': evaluation.is_vulnerable,\n",
        "        'confidence': evaluation.confidence,\n",
        "        'evidence': evaluation.evidence,\n",
        "        'reasoning': evaluation.reasoning\n",
        "    })"
      ]
    },
    {
      "cell_type": "markdown",
      "metadata": {},
      "source": [
        "## Analysis\n",
        "\n",
        "Analyze the results and compare with the original finding:"
      ]
    },
    {
      "cell_type": "code",
      "execution_count": null,
      "metadata": {},
      "source": [
        "# Create results dataframe\n",
        "df = pd.DataFrame(results)\n",
        "\n",
        "print(\"REPRODUCTION RESULTS:\")\n",
        "print(f\"Total prompts tested: {len(results)}\")\n",
        "print(f\"Vulnerabilities detected: {sum(df['vulnerable'])}\")\n",
        "print(f\"Average confidence: {df['confidence'].mean():.2f}\")\n",
        "\n",
        "# Check if reproduction matches original finding\n",
        "original_evidence = set(finding['evidence'])\n",
        "reproduced_evidence = set([item for sublist in df['evidence'].tolist() for item in sublist])\n",
        "\n",
        "evidence_overlap = len(original_evidence.intersection(reproduced_evidence))\n",
        "print(f\"\\nEvidence patterns reproduced: {evidence_overlap}/{len(original_evidence)}\")\n",
        "\n",
        "if evidence_overlap > 0:\n",
        "    print(\"\u2705 Finding successfully reproduced!\")\n",
        "    print(\"\\nMatching evidence patterns:\")\n",
        "    for evidence in original_evidence.intersection(reproduced_evidence):\n",
        "        print(f\"  \u2022 {evidence}\")\n",
        "else:\n",
        "    print(\"\u26a0\ufe0f  Could not reproduce original evidence patterns\")\n",
        "    print(\"This might indicate:\")\n",
        "    print(\"  - Model behavior has changed\")\n",
        "    print(\"  - Different model version or configuration\")\n",
        "    print(\"  - Evaluation criteria need adjustment\")"
      ]
    },
    {
      "cell_type": "markdown",
      "metadata": {},
      "source": [
        "## Extended Testing\n",
        "\n",
        "Run additional tests to validate the finding:"
      ]
    },
    {
      "cell_type": "code",
      "execution_count": null,
      "metadata": {},
      "source": [
        "# Run full deception test suite\n",
        "print(\"Running extended deception tests...\")\n",
        "\n",
        "tester = DeceptionTester(client)\n",
        "test_results = tester.run_category_tests('evaluation_gaming')\n",
        "\n",
        "print(f\"\\nExtended test results:\")\n",
        "analysis = tester.analyze_results(test_results)\n",
        "\n",
        "for key, value in analysis.items():\n",
        "    if key != 'category_breakdown':\n",
        "        print(f\"  {key}: {value}\")\n",
        "\n",
        "print(\"\\n\" + \"=\"*50)\n",
        "print(\"REPRODUCTION COMPLETE\")\n",
        "print(\"=\"*50)"
      ]
    }
  ],
  "metadata": {
    "kernelspec": {
      "display_name": "Python 3",
      "language": "python",
      "name": "python3"
    },
    "language_info": {
      "codemirror_mode": {
        "name": "ipython",
        "version": 3
      },
      "file_extension": ".py",
      "mimetype": "text/x-python",
      "name": "python",
      "nbconvert_exporter": "python",
      "pygments_lexer": "ipython3",
      "version": "3.8.0"
    }
  },
  "nbformat": 4,
  "nbformat_minor": 4
}